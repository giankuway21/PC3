{
 "cells": [
  {
   "cell_type": "code",
   "execution_count": 3,
   "id": "b405b789",
   "metadata": {},
   "outputs": [
    {
     "data": {
      "text/plain": [
       "120"
      ]
     },
     "execution_count": 3,
     "metadata": {},
     "output_type": "execute_result"
    }
   ],
   "source": [
    "def factorial(n):\n",
    "  #n=int(input())\n",
    "  n=int(n)\n",
    "  prod = 1\n",
    "  for i in range(n,0,-1):\n",
    "    prod *= i\n",
    "  return prod\n",
    "\n",
    "#factorial(5)"
   ]
  },
  {
   "cell_type": "code",
   "execution_count": 5,
   "id": "2b067192",
   "metadata": {},
   "outputs": [
    {
     "name": "stdout",
     "output_type": "stream",
     "text": [
      "   0\n",
      "0  a\n",
      "1  b\n",
      "2  c\n",
      "3  d\n",
      "4  e\n",
      "5  f\n",
      "6  g\n",
      "7  h\n",
      "8  i\n",
      "9  j\n"
     ]
    }
   ],
   "source": [
    "import pandas as pd\n",
    " \n",
    "df2 = pd.read_csv(\"datos3.csv\", header=None)\n",
    " \n",
    "print(df2)"
   ]
  },
  {
   "cell_type": "code",
   "execution_count": null,
   "id": "6716dbd2",
   "metadata": {},
   "outputs": [],
   "source": []
  }
 ],
 "metadata": {
  "kernelspec": {
   "display_name": "Python 3 (ipykernel)",
   "language": "python",
   "name": "python3"
  },
  "language_info": {
   "codemirror_mode": {
    "name": "ipython",
    "version": 3
   },
   "file_extension": ".py",
   "mimetype": "text/x-python",
   "name": "python",
   "nbconvert_exporter": "python",
   "pygments_lexer": "ipython3",
   "version": "3.9.12"
  }
 },
 "nbformat": 4,
 "nbformat_minor": 5
}
